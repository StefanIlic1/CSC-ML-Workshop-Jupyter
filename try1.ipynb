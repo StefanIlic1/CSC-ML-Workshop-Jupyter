{
 "cells": [
  {
   "cell_type": "markdown",
   "metadata": {},
   "source": [
    "In this notebook, we will be working with the obesity dataset and use machine learning algorithms to classify patients based on their data parameters."
   ]
  },
  {
   "cell_type": "markdown",
   "metadata": {},
   "source": [
    "First, let's read in the dataset. Pandas is a library that creates a dataframe (a way to store datasets in python) representative of the data in the .arff file containing our information."
   ]
  },
  {
   "cell_type": "code",
   "execution_count": 14,
   "metadata": {},
   "outputs": [
    {
     "name": "stdout",
     "output_type": "stream",
     "text": [
      "   Sex   Age  Height  Overweight_Obese_Family  Consumption_of_Fast_Food  \\\n",
      "0  2.0  18.0   155.0                      2.0                       2.0   \n",
      "1  2.0  18.0   158.0                      2.0                       2.0   \n",
      "2  2.0  18.0   159.0                      2.0                       2.0   \n",
      "3  2.0  18.0   162.0                      2.0                       2.0   \n",
      "4  2.0  18.0   165.0                      2.0                       1.0   \n",
      "\n",
      "   Frequency_of_Consuming_Vegetables  Number_of_Main_Meals_Daily  \\\n",
      "0                                3.0                         1.0   \n",
      "1                                3.0                         1.0   \n",
      "2                                2.0                         1.0   \n",
      "3                                2.0                         2.0   \n",
      "4                                2.0                         1.0   \n",
      "\n",
      "   Food_Intake_Between_Meals  Smoking  Liquid_Intake_Daily  \\\n",
      "0                        3.0      2.0                  1.0   \n",
      "1                        1.0      2.0                  1.0   \n",
      "2                        3.0      2.0                  3.0   \n",
      "3                        2.0      2.0                  2.0   \n",
      "4                        3.0      2.0                  1.0   \n",
      "\n",
      "   Calculation_of_Calorie_Intake  Physical_Excercise  \\\n",
      "0                            2.0                 3.0   \n",
      "1                            2.0                 1.0   \n",
      "2                            2.0                 2.0   \n",
      "3                            2.0                 1.0   \n",
      "4                            2.0                 3.0   \n",
      "\n",
      "   Schedule_Dedicated_to_Technology  Type_of_Transportation_Used Class  \n",
      "0                               3.0                          4.0  b'2'  \n",
      "1                               3.0                          3.0  b'2'  \n",
      "2                               3.0                          4.0  b'2'  \n",
      "3                               3.0                          4.0  b'2'  \n",
      "4                               3.0                          2.0  b'2'  \n"
     ]
    }
   ],
   "source": [
    "from scipy.io import arff\n",
    "import pandas as pd\n",
    "import os\n",
    "\n",
    "# Load the dataset\n",
    "data, meta = arff.loadarff('./Obesity_Dataset/Obesity_Dataset.arff')\n",
    "\n",
    "# Convert to pandas DataFrame\n",
    "df = pd.DataFrame(data)\n",
    "print(df.head())"
   ]
  }
 ],
 "metadata": {
  "kernelspec": {
   "display_name": "base",
   "language": "python",
   "name": "python3"
  },
  "language_info": {
   "codemirror_mode": {
    "name": "ipython",
    "version": 3
   },
   "file_extension": ".py",
   "mimetype": "text/x-python",
   "name": "python",
   "nbconvert_exporter": "python",
   "pygments_lexer": "ipython3",
   "version": "3.12.4"
  }
 },
 "nbformat": 4,
 "nbformat_minor": 2
}
